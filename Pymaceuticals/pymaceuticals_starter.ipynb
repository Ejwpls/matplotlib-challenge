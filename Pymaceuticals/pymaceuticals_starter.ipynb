{
 "cells": [
  {
   "cell_type": "markdown",
   "metadata": {},
   "source": [
    "## Observations and Insights "
   ]
  },
  {
   "cell_type": "markdown",
   "metadata": {},
   "source": []
  },
  {
   "cell_type": "code",
   "execution_count": 161,
   "metadata": {},
   "outputs": [
    {
     "data": {
      "text/html": [
       "<div>\n",
       "<style scoped>\n",
       "    .dataframe tbody tr th:only-of-type {\n",
       "        vertical-align: middle;\n",
       "    }\n",
       "\n",
       "    .dataframe tbody tr th {\n",
       "        vertical-align: top;\n",
       "    }\n",
       "\n",
       "    .dataframe thead th {\n",
       "        text-align: right;\n",
       "    }\n",
       "</style>\n",
       "<table border=\"1\" class=\"dataframe\">\n",
       "  <thead>\n",
       "    <tr style=\"text-align: right;\">\n",
       "      <th></th>\n",
       "      <th>Mouse ID</th>\n",
       "      <th>Drug Regimen</th>\n",
       "      <th>Sex</th>\n",
       "      <th>Age_months</th>\n",
       "      <th>Weight (g)</th>\n",
       "      <th>Timepoint</th>\n",
       "      <th>Tumor Volume (mm3)</th>\n",
       "      <th>Metastatic Sites</th>\n",
       "    </tr>\n",
       "  </thead>\n",
       "  <tbody>\n",
       "    <tr>\n",
       "      <th>0</th>\n",
       "      <td>k403</td>\n",
       "      <td>Ramicane</td>\n",
       "      <td>Male</td>\n",
       "      <td>21</td>\n",
       "      <td>16</td>\n",
       "      <td>0</td>\n",
       "      <td>45.000000</td>\n",
       "      <td>0</td>\n",
       "    </tr>\n",
       "    <tr>\n",
       "      <th>1</th>\n",
       "      <td>k403</td>\n",
       "      <td>Ramicane</td>\n",
       "      <td>Male</td>\n",
       "      <td>21</td>\n",
       "      <td>16</td>\n",
       "      <td>5</td>\n",
       "      <td>38.825898</td>\n",
       "      <td>0</td>\n",
       "    </tr>\n",
       "    <tr>\n",
       "      <th>2</th>\n",
       "      <td>k403</td>\n",
       "      <td>Ramicane</td>\n",
       "      <td>Male</td>\n",
       "      <td>21</td>\n",
       "      <td>16</td>\n",
       "      <td>10</td>\n",
       "      <td>35.014271</td>\n",
       "      <td>1</td>\n",
       "    </tr>\n",
       "    <tr>\n",
       "      <th>3</th>\n",
       "      <td>k403</td>\n",
       "      <td>Ramicane</td>\n",
       "      <td>Male</td>\n",
       "      <td>21</td>\n",
       "      <td>16</td>\n",
       "      <td>15</td>\n",
       "      <td>34.223992</td>\n",
       "      <td>1</td>\n",
       "    </tr>\n",
       "    <tr>\n",
       "      <th>4</th>\n",
       "      <td>k403</td>\n",
       "      <td>Ramicane</td>\n",
       "      <td>Male</td>\n",
       "      <td>21</td>\n",
       "      <td>16</td>\n",
       "      <td>20</td>\n",
       "      <td>32.997729</td>\n",
       "      <td>1</td>\n",
       "    </tr>\n",
       "  </tbody>\n",
       "</table>\n",
       "</div>"
      ],
      "text/plain": [
       "  Mouse ID Drug Regimen   Sex  Age_months  Weight (g)  Timepoint  \\\n",
       "0     k403     Ramicane  Male          21          16          0   \n",
       "1     k403     Ramicane  Male          21          16          5   \n",
       "2     k403     Ramicane  Male          21          16         10   \n",
       "3     k403     Ramicane  Male          21          16         15   \n",
       "4     k403     Ramicane  Male          21          16         20   \n",
       "\n",
       "   Tumor Volume (mm3)  Metastatic Sites  \n",
       "0           45.000000                 0  \n",
       "1           38.825898                 0  \n",
       "2           35.014271                 1  \n",
       "3           34.223992                 1  \n",
       "4           32.997729                 1  "
      ]
     },
     "execution_count": 161,
     "metadata": {},
     "output_type": "execute_result"
    }
   ],
   "source": [
    "# Dependencies and Setup\n",
    "import matplotlib.pyplot as plt\n",
    "import pandas as pd\n",
    "import scipy.stats as st\n",
    "\n",
    "# Study data files\n",
    "mouse_metadata_path = \"data/Mouse_metadata.csv\"\n",
    "study_results_path = \"data/Study_results.csv\"\n",
    "\n",
    "# Read the mouse data and the study results\n",
    "mouse_metadata = pd.read_csv(mouse_metadata_path)\n",
    "study_results = pd.read_csv(study_results_path)\n",
    "\n",
    "# Combine the data into a single dataset\n",
    "mouse_df = pd.merge(mouse_metadata,study_results,how='outer',on='Mouse ID')\n",
    "\n",
    "# Display the data table for preview\n",
    "mouse_df.head()\n"
   ]
  },
  {
   "cell_type": "code",
   "execution_count": 162,
   "metadata": {},
   "outputs": [
    {
     "data": {
      "text/plain": [
       "1893"
      ]
     },
     "execution_count": 162,
     "metadata": {},
     "output_type": "execute_result"
    }
   ],
   "source": [
    "# Checking the number of mice.\n",
    "len(mouse_df['Mouse ID'])"
   ]
  },
  {
   "cell_type": "code",
   "execution_count": 163,
   "metadata": {},
   "outputs": [
    {
     "data": {
      "text/plain": [
       "1888"
      ]
     },
     "execution_count": 163,
     "metadata": {},
     "output_type": "execute_result"
    }
   ],
   "source": [
    "# Getting the duplicate mice by ID number that shows up for Mouse ID and Timepoint. \n",
    "clean_mouse_df = mouse_df.drop_duplicates(subset=['Mouse ID', 'Timepoint'], keep='first')\n",
    "len(clean_mouse_df['Mouse ID'])"
   ]
  },
  {
   "cell_type": "code",
   "execution_count": 164,
   "metadata": {},
   "outputs": [],
   "source": [
    "# Optional: Get all the data for the duplicate mouse ID.\n",
    "mouse_df['Duplicated'] = mouse_df.duplicated(subset=['Mouse ID', 'Timepoint'])\n",
    "\n",
    "#Create a new dataframe to store all the duplicated data based on Mouse ID and Timepoint\n",
    "duplicated_mouse_df = mouse_df[mouse_df['Duplicated'] == True]\n",
    "\n",
    "#Drop column that is unused\n",
    "duplicated_mouse_df = duplicated_mouse_df.drop(['Duplicated'], axis = 1)\n",
    "#Check the number\n",
    "len(duplicated_mouse_df['Mouse ID'])\n",
    "#Show the duplicated mosue ID\n",
    "duplicated_mouse_df.head()\n",
    "\n",
    "#Drop column that is unused\n",
    "mouse_df = mouse_df.drop(['Duplicated'], axis = 1)"
   ]
  },
  {
   "cell_type": "code",
   "execution_count": 165,
   "metadata": {},
   "outputs": [],
   "source": [
    "# Create a clean DataFrame by dropping the duplicate mouse by its ID.\n",
    "# Keeping last for the quartlies exercices\n",
    "mousedrug_df = clean_mouse_df.drop_duplicates(subset=['Mouse ID'],keep='last')"
   ]
  },
  {
   "cell_type": "code",
   "execution_count": 166,
   "metadata": {},
   "outputs": [
    {
     "data": {
      "text/plain": [
       "249"
      ]
     },
     "execution_count": 166,
     "metadata": {},
     "output_type": "execute_result"
    }
   ],
   "source": [
    "# Checking the number of mice in the clean DataFrame.\n",
    "mousedrug_df['Mouse ID'].nunique()"
   ]
  },
  {
   "cell_type": "markdown",
   "metadata": {},
   "source": [
    "## Summary Statistics"
   ]
  },
  {
   "cell_type": "code",
   "execution_count": 167,
   "metadata": {},
   "outputs": [
    {
     "data": {
      "text/html": [
       "<div>\n",
       "<style scoped>\n",
       "    .dataframe tbody tr th:only-of-type {\n",
       "        vertical-align: middle;\n",
       "    }\n",
       "\n",
       "    .dataframe tbody tr th {\n",
       "        vertical-align: top;\n",
       "    }\n",
       "\n",
       "    .dataframe thead th {\n",
       "        text-align: right;\n",
       "    }\n",
       "</style>\n",
       "<table border=\"1\" class=\"dataframe\">\n",
       "  <thead>\n",
       "    <tr style=\"text-align: right;\">\n",
       "      <th></th>\n",
       "      <th>drug_name</th>\n",
       "      <th>median</th>\n",
       "      <th>mean</th>\n",
       "      <th>mode</th>\n",
       "      <th>var</th>\n",
       "      <th>sd</th>\n",
       "      <th>sem</th>\n",
       "    </tr>\n",
       "  </thead>\n",
       "  <tbody>\n",
       "    <tr>\n",
       "      <th>0</th>\n",
       "      <td>Ramicane</td>\n",
       "      <td>36.561652</td>\n",
       "      <td>36.191390</td>\n",
       "      <td>22.050126</td>\n",
       "      <td>32.166354</td>\n",
       "      <td>5.671539</td>\n",
       "      <td>1.134308</td>\n",
       "    </tr>\n",
       "    <tr>\n",
       "      <th>1</th>\n",
       "      <td>Capomulin</td>\n",
       "      <td>38.125164</td>\n",
       "      <td>36.667568</td>\n",
       "      <td>23.343598</td>\n",
       "      <td>32.663378</td>\n",
       "      <td>5.715188</td>\n",
       "      <td>1.143038</td>\n",
       "    </tr>\n",
       "    <tr>\n",
       "      <th>2</th>\n",
       "      <td>Infubinol</td>\n",
       "      <td>60.165180</td>\n",
       "      <td>58.178246</td>\n",
       "      <td>36.321346</td>\n",
       "      <td>74.010875</td>\n",
       "      <td>8.602957</td>\n",
       "      <td>1.720591</td>\n",
       "    </tr>\n",
       "    <tr>\n",
       "      <th>3</th>\n",
       "      <td>Placebo</td>\n",
       "      <td>62.030594</td>\n",
       "      <td>60.508414</td>\n",
       "      <td>45.000000</td>\n",
       "      <td>78.759797</td>\n",
       "      <td>8.874672</td>\n",
       "      <td>1.774934</td>\n",
       "    </tr>\n",
       "    <tr>\n",
       "      <th>4</th>\n",
       "      <td>Ceftamin</td>\n",
       "      <td>59.851956</td>\n",
       "      <td>57.753977</td>\n",
       "      <td>45.000000</td>\n",
       "      <td>69.982735</td>\n",
       "      <td>8.365568</td>\n",
       "      <td>1.673114</td>\n",
       "    </tr>\n",
       "    <tr>\n",
       "      <th>5</th>\n",
       "      <td>Stelasyn</td>\n",
       "      <td>62.192350</td>\n",
       "      <td>61.001707</td>\n",
       "      <td>45.000000</td>\n",
       "      <td>90.331586</td>\n",
       "      <td>9.504293</td>\n",
       "      <td>1.940056</td>\n",
       "    </tr>\n",
       "    <tr>\n",
       "      <th>6</th>\n",
       "      <td>Zoniferol</td>\n",
       "      <td>61.840058</td>\n",
       "      <td>59.181258</td>\n",
       "      <td>45.000000</td>\n",
       "      <td>76.862027</td>\n",
       "      <td>8.767099</td>\n",
       "      <td>1.753420</td>\n",
       "    </tr>\n",
       "    <tr>\n",
       "      <th>7</th>\n",
       "      <td>Ketapril</td>\n",
       "      <td>64.487812</td>\n",
       "      <td>62.806191</td>\n",
       "      <td>45.000000</td>\n",
       "      <td>98.921330</td>\n",
       "      <td>9.945920</td>\n",
       "      <td>1.989184</td>\n",
       "    </tr>\n",
       "    <tr>\n",
       "      <th>8</th>\n",
       "      <td>Propriva</td>\n",
       "      <td>55.841410</td>\n",
       "      <td>56.736964</td>\n",
       "      <td>45.000000</td>\n",
       "      <td>69.349002</td>\n",
       "      <td>8.327605</td>\n",
       "      <td>1.665521</td>\n",
       "    </tr>\n",
       "    <tr>\n",
       "      <th>9</th>\n",
       "      <td>Naftisol</td>\n",
       "      <td>63.283288</td>\n",
       "      <td>61.205757</td>\n",
       "      <td>45.000000</td>\n",
       "      <td>106.029927</td>\n",
       "      <td>10.297083</td>\n",
       "      <td>2.059417</td>\n",
       "    </tr>\n",
       "  </tbody>\n",
       "</table>\n",
       "</div>"
      ],
      "text/plain": [
       "   drug_name     median       mean       mode         var         sd       sem\n",
       "0   Ramicane  36.561652  36.191390  22.050126   32.166354   5.671539  1.134308\n",
       "1  Capomulin  38.125164  36.667568  23.343598   32.663378   5.715188  1.143038\n",
       "2  Infubinol  60.165180  58.178246  36.321346   74.010875   8.602957  1.720591\n",
       "3    Placebo  62.030594  60.508414  45.000000   78.759797   8.874672  1.774934\n",
       "4   Ceftamin  59.851956  57.753977  45.000000   69.982735   8.365568  1.673114\n",
       "5   Stelasyn  62.192350  61.001707  45.000000   90.331586   9.504293  1.940056\n",
       "6  Zoniferol  61.840058  59.181258  45.000000   76.862027   8.767099  1.753420\n",
       "7   Ketapril  64.487812  62.806191  45.000000   98.921330   9.945920  1.989184\n",
       "8   Propriva  55.841410  56.736964  45.000000   69.349002   8.327605  1.665521\n",
       "9   Naftisol  63.283288  61.205757  45.000000  106.029927  10.297083  2.059417"
      ]
     },
     "execution_count": 167,
     "metadata": {},
     "output_type": "execute_result"
    }
   ],
   "source": [
    "# Generate a summary statistics table of mean, median, variance, standard deviation, and SEM of the tumor volume for each regimen\n",
    "def Summary_Stats(drug_name):\n",
    "\n",
    "    #Create a key \n",
    "    drug_name = {\n",
    "        'drug_name': drug_name,\n",
    "        'median': mousedrug_df.loc[mousedrug_df['Drug Regimen'] == str(drug_name),'Tumor Volume (mm3)'].median(),\n",
    "        'mean': mousedrug_df.loc[mousedrug_df['Drug Regimen'] == str(drug_name),'Tumor Volume (mm3)'].mean(),\n",
    "        'mode': mousedrug_df.loc[mousedrug_df['Drug Regimen'] == str(drug_name),'Tumor Volume (mm3)'].mode()[0],\n",
    "        'var': mousedrug_df.loc[mousedrug_df['Drug Regimen'] == str(drug_name),'Tumor Volume (mm3)'].var(),\n",
    "        'sd': mousedrug_df.loc[mousedrug_df['Drug Regimen'] == str(drug_name),'Tumor Volume (mm3)'].std(),\n",
    "        'sem': st.sem(mousedrug_df.loc[mousedrug_df['Drug Regimen'] == str(drug_name),'Tumor Volume (mm3)'])\n",
    "    }\n",
    "    return drug_name\n",
    "\n",
    "# This method is the most straighforward, creating multiple series and putting them all together at the end.\n",
    "\n",
    "#Get a list of Unique drugs \n",
    "drug_regimen = mousedrug_df['Drug Regimen'].unique()\n",
    "\n",
    "sum_stats = []\n",
    "i = 0\n",
    "\n",
    "for drug_name in drug_regimen:\n",
    "    sum_stats.append(Summary_Stats(drug_name))\n",
    "    i += 1\n",
    "\n",
    "sum_stats_df = pd.DataFrame(sum_stats)\n",
    "sum_stats_df\n",
    "\n"
   ]
  },
  {
   "cell_type": "markdown",
   "metadata": {},
   "source": [
    "Median or mean is probably the best use case for this data as the mode is not useful at all "
   ]
  },
  {
   "cell_type": "code",
   "execution_count": 168,
   "metadata": {},
   "outputs": [
    {
     "data": {
      "text/html": [
       "<div>\n",
       "<style scoped>\n",
       "    .dataframe tbody tr th:only-of-type {\n",
       "        vertical-align: middle;\n",
       "    }\n",
       "\n",
       "    .dataframe tbody tr th {\n",
       "        vertical-align: top;\n",
       "    }\n",
       "\n",
       "    .dataframe thead tr th {\n",
       "        text-align: left;\n",
       "    }\n",
       "\n",
       "    .dataframe thead tr:last-of-type th {\n",
       "        text-align: right;\n",
       "    }\n",
       "</style>\n",
       "<table border=\"1\" class=\"dataframe\">\n",
       "  <thead>\n",
       "    <tr>\n",
       "      <th></th>\n",
       "      <th colspan=\"8\" halign=\"left\">Tumor Volume (mm3)</th>\n",
       "    </tr>\n",
       "    <tr>\n",
       "      <th></th>\n",
       "      <th>count</th>\n",
       "      <th>mean</th>\n",
       "      <th>std</th>\n",
       "      <th>min</th>\n",
       "      <th>25%</th>\n",
       "      <th>50%</th>\n",
       "      <th>75%</th>\n",
       "      <th>max</th>\n",
       "    </tr>\n",
       "    <tr>\n",
       "      <th>Drug Regimen</th>\n",
       "      <th></th>\n",
       "      <th></th>\n",
       "      <th></th>\n",
       "      <th></th>\n",
       "      <th></th>\n",
       "      <th></th>\n",
       "      <th></th>\n",
       "      <th></th>\n",
       "    </tr>\n",
       "  </thead>\n",
       "  <tbody>\n",
       "    <tr>\n",
       "      <th>Capomulin</th>\n",
       "      <td>25.0</td>\n",
       "      <td>36.667568</td>\n",
       "      <td>5.715188</td>\n",
       "      <td>23.343598</td>\n",
       "      <td>32.377357</td>\n",
       "      <td>38.125164</td>\n",
       "      <td>40.159220</td>\n",
       "      <td>47.685963</td>\n",
       "    </tr>\n",
       "    <tr>\n",
       "      <th>Ceftamin</th>\n",
       "      <td>25.0</td>\n",
       "      <td>57.753977</td>\n",
       "      <td>8.365568</td>\n",
       "      <td>45.000000</td>\n",
       "      <td>48.722078</td>\n",
       "      <td>59.851956</td>\n",
       "      <td>64.299830</td>\n",
       "      <td>68.923185</td>\n",
       "    </tr>\n",
       "    <tr>\n",
       "      <th>Infubinol</th>\n",
       "      <td>25.0</td>\n",
       "      <td>58.178246</td>\n",
       "      <td>8.602957</td>\n",
       "      <td>36.321346</td>\n",
       "      <td>54.048608</td>\n",
       "      <td>60.165180</td>\n",
       "      <td>65.525743</td>\n",
       "      <td>72.226731</td>\n",
       "    </tr>\n",
       "    <tr>\n",
       "      <th>Ketapril</th>\n",
       "      <td>25.0</td>\n",
       "      <td>62.806191</td>\n",
       "      <td>9.945920</td>\n",
       "      <td>45.000000</td>\n",
       "      <td>56.720095</td>\n",
       "      <td>64.487812</td>\n",
       "      <td>69.872251</td>\n",
       "      <td>78.567014</td>\n",
       "    </tr>\n",
       "    <tr>\n",
       "      <th>Naftisol</th>\n",
       "      <td>25.0</td>\n",
       "      <td>61.205757</td>\n",
       "      <td>10.297083</td>\n",
       "      <td>45.000000</td>\n",
       "      <td>52.079510</td>\n",
       "      <td>63.283288</td>\n",
       "      <td>69.563621</td>\n",
       "      <td>76.668817</td>\n",
       "    </tr>\n",
       "    <tr>\n",
       "      <th>Placebo</th>\n",
       "      <td>25.0</td>\n",
       "      <td>60.508414</td>\n",
       "      <td>8.874672</td>\n",
       "      <td>45.000000</td>\n",
       "      <td>52.942902</td>\n",
       "      <td>62.030594</td>\n",
       "      <td>68.134288</td>\n",
       "      <td>73.212939</td>\n",
       "    </tr>\n",
       "    <tr>\n",
       "      <th>Propriva</th>\n",
       "      <td>25.0</td>\n",
       "      <td>56.736964</td>\n",
       "      <td>8.327605</td>\n",
       "      <td>45.000000</td>\n",
       "      <td>49.122969</td>\n",
       "      <td>55.841410</td>\n",
       "      <td>62.570880</td>\n",
       "      <td>72.455421</td>\n",
       "    </tr>\n",
       "    <tr>\n",
       "      <th>Ramicane</th>\n",
       "      <td>25.0</td>\n",
       "      <td>36.191390</td>\n",
       "      <td>5.671539</td>\n",
       "      <td>22.050126</td>\n",
       "      <td>31.560470</td>\n",
       "      <td>36.561652</td>\n",
       "      <td>40.659006</td>\n",
       "      <td>45.220869</td>\n",
       "    </tr>\n",
       "    <tr>\n",
       "      <th>Stelasyn</th>\n",
       "      <td>24.0</td>\n",
       "      <td>61.001707</td>\n",
       "      <td>9.504293</td>\n",
       "      <td>45.000000</td>\n",
       "      <td>52.476596</td>\n",
       "      <td>62.192350</td>\n",
       "      <td>69.103944</td>\n",
       "      <td>75.123690</td>\n",
       "    </tr>\n",
       "    <tr>\n",
       "      <th>Zoniferol</th>\n",
       "      <td>25.0</td>\n",
       "      <td>59.181258</td>\n",
       "      <td>8.767099</td>\n",
       "      <td>45.000000</td>\n",
       "      <td>49.988302</td>\n",
       "      <td>61.840058</td>\n",
       "      <td>66.794156</td>\n",
       "      <td>73.324432</td>\n",
       "    </tr>\n",
       "  </tbody>\n",
       "</table>\n",
       "</div>"
      ],
      "text/plain": [
       "             Tumor Volume (mm3)                                              \\\n",
       "                          count       mean        std        min        25%   \n",
       "Drug Regimen                                                                  \n",
       "Capomulin                  25.0  36.667568   5.715188  23.343598  32.377357   \n",
       "Ceftamin                   25.0  57.753977   8.365568  45.000000  48.722078   \n",
       "Infubinol                  25.0  58.178246   8.602957  36.321346  54.048608   \n",
       "Ketapril                   25.0  62.806191   9.945920  45.000000  56.720095   \n",
       "Naftisol                   25.0  61.205757  10.297083  45.000000  52.079510   \n",
       "Placebo                    25.0  60.508414   8.874672  45.000000  52.942902   \n",
       "Propriva                   25.0  56.736964   8.327605  45.000000  49.122969   \n",
       "Ramicane                   25.0  36.191390   5.671539  22.050126  31.560470   \n",
       "Stelasyn                   24.0  61.001707   9.504293  45.000000  52.476596   \n",
       "Zoniferol                  25.0  59.181258   8.767099  45.000000  49.988302   \n",
       "\n",
       "                                               \n",
       "                    50%        75%        max  \n",
       "Drug Regimen                                   \n",
       "Capomulin     38.125164  40.159220  47.685963  \n",
       "Ceftamin      59.851956  64.299830  68.923185  \n",
       "Infubinol     60.165180  65.525743  72.226731  \n",
       "Ketapril      64.487812  69.872251  78.567014  \n",
       "Naftisol      63.283288  69.563621  76.668817  \n",
       "Placebo       62.030594  68.134288  73.212939  \n",
       "Propriva      55.841410  62.570880  72.455421  \n",
       "Ramicane      36.561652  40.659006  45.220869  \n",
       "Stelasyn      62.192350  69.103944  75.123690  \n",
       "Zoniferol     61.840058  66.794156  73.324432  "
      ]
     },
     "execution_count": 168,
     "metadata": {},
     "output_type": "execute_result"
    }
   ],
   "source": [
    "# Generate a summary statistics table of mean, median, variance, standard deviation, and SEM of the tumor volume for each regimen\n",
    "# This method produces everything in a single groupby function\n",
    "grouped_regimen = mousedrug_df.groupby('Drug Regimen')\n",
    "sumstats = grouped_regimen[['Tumor Volume (mm3)']].describe()\n",
    "sumstats\n"
   ]
  },
  {
   "cell_type": "markdown",
   "metadata": {},
   "source": [
    "## Bar and Pie Charts"
   ]
  },
  {
   "cell_type": "code",
   "execution_count": 169,
   "metadata": {},
   "outputs": [
    {
     "data": {
      "text/plain": [
       "Text(0, 0.5, 'Number of Mouse')"
      ]
     },
     "execution_count": 169,
     "metadata": {},
     "output_type": "execute_result"
    },
    {
     "data": {
      "image/png": "[encoded data removed]",
      "text/plain": [
       "<Figure size 432x288 with 1 Axes>"
      ]
     },
     "metadata": {
      "needs_background": "light"
     },
     "output_type": "display_data"
    }
   ],
   "source": [
    "# Generate a bar plot showing the total number of mice for each treatment throughout the course of the study using pandas. \n",
    "plt.bar(sumstats.index,sumstats[(('Tumor Volume (mm3)', 'count'))])\n",
    "\n",
    "s_ = pd.Series(sumstats.index,sumstats[(('Tumor Volume (mm3)', 'count'))])\n",
    "s_.plot\n",
    "\n",
    "plt.xlabel('Drug Regimen')\n",
    "plt.xticks(rotation = 90)\n",
    "plt.ylabel('Number of Mouse')"
   ]
  },
  {
   "cell_type": "code",
   "execution_count": 170,
   "metadata": {},
   "outputs": [
    {
     "data": {
      "text/plain": [
       "Text(0, 0.5, 'Number of Mouse')"
      ]
     },
     "execution_count": 170,
     "metadata": {},
     "output_type": "execute_result"
    },
    {
     "data": {
      "image/png": "[encoded data removed]",
      "text/plain": [
       "<Figure size 432x288 with 1 Axes>"
      ]
     },
     "metadata": {
      "needs_background": "light"
     },
     "output_type": "display_data"
    }
   ],
   "source": [
    "# Generate a bar plot showing the total number of mice for each treatment throughout the course of the study using pyplot.\n",
    "plt.bar(sumstats.index,sumstats[(('Tumor Volume (mm3)', 'count'))])\n",
    "plt.xlabel('Drug Regimen')\n",
    "plt.xticks(rotation = 90)\n",
    "plt.ylabel('Number of Mouse')"
   ]
  },
  {
   "cell_type": "code",
   "execution_count": 171,
   "metadata": {},
   "outputs": [
    {
     "data": {
      "text/plain": [
       "<AxesSubplot:title={'center':'Distribution of Sex of Mouse in the Study'}, ylabel='Sex'>"
      ]
     },
     "execution_count": 171,
     "metadata": {},
     "output_type": "execute_result"
    },
    {
     "data": {
      "image/png": "[encoded data removed]",
      "text/plain": [
       "<Figure size 360x360 with 1 Axes>"
      ]
     },
     "metadata": {},
     "output_type": "display_data"
    }
   ],
   "source": [
    "# Generate a pie plot showing the distribution of female versus male mice using pandas\n",
    "gender_group = mousedrug_df.groupby(['Sex'])\n",
    "gender = gender_group['Sex']\n",
    "colors = ['Pink','Blue']\n",
    "size = gender_group['Sex'].count()\n",
    "\n",
    "#Plot using Pandas\n",
    "size.plot.pie(y = 'Sex', figsize=(5,5), autopct=\"%1.1f%%\", colors = colors, title = 'Distribution of Sex of Mouse in the Study')\n"
   ]
  },
  {
   "cell_type": "code",
   "execution_count": 172,
   "metadata": {},
   "outputs": [
    {
     "data": {
      "image/png": "[encoded data removed]",
      "text/plain": [
       "<Figure size 432x288 with 1 Axes>"
      ]
     },
     "metadata": {},
     "output_type": "display_data"
    }
   ],
   "source": [
    "# Generate a pie plot showing the distribution of female versus male mice using pyplot\n",
    "plt.pie(size, labels = size.index, colors=colors,autopct=\"%1.1f%%\")\n",
    "plt.title('Distribution of Sex of Mouse in the Study')\n",
    "plt.ylabel('Sex')\n",
    "plt.show()"
   ]
  },
  {
   "cell_type": "markdown",
   "metadata": {},
   "source": [
    "## Quartiles, Outliers and Boxplots"
   ]
  },
  {
   "cell_type": "code",
   "execution_count": 173,
   "metadata": {},
   "outputs": [],
   "source": [
    "# Calculate the final tumor volume of each mouse across four of the treatment regimens:  \n",
    "# Capomulin, Ramicane, Infubinol, and Ceftamin\n",
    "\n",
    "drug_set = ['Capomulin', 'Ramicane', 'Infubinol', 'Ceftamin']\n",
    "\n",
    "drugset_df = mousedrug_df\n",
    "#drugset_df.reset_index() \n",
    "drugset_df = drugset_df[drugset_df['Drug Regimen'].isin(drug_set)]\n",
    "\n",
    "#Three seperate Boxplots\n",
    "#drugset_df.groupby('Drug Regimen').boxplot(column='Tumor Volume (mm3)');\n",
    "\n",
    "\n",
    "# Start by getting the last (greatest) timepoint for each mouse\n",
    "# Merge this group df with the original dataframe to get the tumor volume at the last timepoint\n",
    "# > Completed during creating mousedrug_df"
   ]
  },
  {
   "cell_type": "code",
   "execution_count": 174,
   "metadata": {},
   "outputs": [
    {
     "name": "stdout",
     "output_type": "stream",
     "text": [
      "Regimen: Capomulin\n",
      "Lower Quartile: 32.37735684, Upper Quartile: 40.1592203, Interquartile Range: 7.781863460000004\n",
      "Lower bound: 20.70456164999999, Upper Bound: 51.83201549\n",
      "Outlier: No Outlier\n",
      "Regimen: Ramicane\n",
      "Lower Quartile: 31.56046955, Upper Quartile: 40.65900627, Interquartile Range: 9.098536719999998\n",
      "Lower bound: 17.912664470000003, Upper Bound: 54.30681135\n",
      "Outlier: No Outlier\n",
      "Regimen: Infubinol\n",
      "Lower Quartile: 54.04860769, Upper Quartile: 65.52574285, Interquartile Range: 11.477135160000003\n",
      "Lower bound: 36.83290494999999, Upper Bound: 82.74144559000001\n",
      "Outlier: 36.3213458\n",
      "Regimen: Ceftamin\n",
      "Lower Quartile: 48.72207785, Upper Quartile: 64.29983003, Interquartile Range: 15.577752179999997\n",
      "Lower bound: 25.355449580000002, Upper Bound: 87.66645829999999\n",
      "Outlier: No Outlier\n"
     ]
    }
   ],
   "source": [
    "# Put treatments into a list for for loop (and later for plot labels)\n",
    "# > refer to 'drug_set'\n",
    "# Create empty list to fill with tumor vol data (for plotting)\n",
    "tumor_vol = []\n",
    "\n",
    "def IQR(drug_name):\n",
    "    \n",
    "    df =  drugset_df.loc[drugset_df['Drug Regimen'] == str(drug_name),'Tumor Volume (mm3)']\n",
    "    quartiles = df.quantile([.25,.5,.75])\n",
    "    \n",
    "    drug_name = {\n",
    "        'name' : drug_name,\n",
    "        'quartiles': quartiles,\n",
    "        'lowerq': quartiles[0.25],\n",
    "        'upperq': quartiles[0.75],\n",
    "        'iqr': quartiles[0.75]-quartiles[0.25],\n",
    "        'lower_bound': quartiles[0.25] - (1.5*(quartiles[0.75]-quartiles[0.25])),\n",
    "        'upper_bound': quartiles[0.75] + (1.5*(quartiles[0.75]-quartiles[0.25]))\n",
    "    }\n",
    "    drug_name['outlier'] =  (df.loc[(df < drug_name['lower_bound']) | (df > drug_name['upper_bound'])])\n",
    "\n",
    "    if drug_name['outlier'].index.empty == True:\n",
    "        drug_name['outlier'] = 'No Outlier'\n",
    "    else:\n",
    "        drug_name['outlier'] = drug_name['outlier'].iloc[0]\n",
    "    \n",
    "    print('Regimen: '+ str(drug_name['name']))\n",
    "    print('Lower Quartile: ' + str(drug_name['lowerq']) + ', Upper Quartile: ' + str(drug_name['upperq']) + ', Interquartile Range: ' + str(drug_name['iqr']))\n",
    "    print('Lower bound: ' + str(drug_name['lower_bound']) + ', Upper Bound: ' +  str(drug_name['upper_bound']))\n",
    "    print('Outlier: ' + str(drug_name['outlier']))\n",
    "\n",
    "    return drug_name\n",
    "\n",
    "# Calculate the IQR and quantitatively determine if there are any potential outliers.\n",
    "\n",
    "for drug in drug_set:\n",
    "    tumor_vol.append(IQR(drug)) \n",
    "    \n"
   ]
  },
  {
   "cell_type": "code",
   "execution_count": 175,
   "metadata": {},
   "outputs": [
    {
     "data": {
      "text/plain": [
       "<AxesSubplot:title={'center':'Tumor Volume (mm3)'}, xlabel='Drug Regimen'>"
      ]
     },
     "execution_count": 175,
     "metadata": {},
     "output_type": "execute_result"
    },
    {
     "data": {
      "image/png": "[encoded data removed]",
      "text/plain": [
       "<Figure size 432x288 with 1 Axes>"
      ]
     },
     "metadata": {
      "needs_background": "light"
     },
     "output_type": "display_data"
    }
   ],
   "source": [
    "# Generate a box plot of the final tumor volume of each mouse across four regimens of interest\n",
    "drugset_df.boxplot(by='Drug Regimen', column=['Tumor Volume (mm3)'], grid = False)"
   ]
  },
  {
   "cell_type": "markdown",
   "metadata": {},
   "source": [
    "The drug Regimen is quite centrally distributed, out of all 4 of the regimen only 1 have an outlier."
   ]
  },
  {
   "cell_type": "markdown",
   "metadata": {},
   "source": [
    "## Line and Scatter Plots"
   ]
  },
  {
   "cell_type": "code",
   "execution_count": 176,
   "metadata": {},
   "outputs": [
    {
     "data": {
      "text/plain": [
       "<AxesSubplot:xlabel='Timepoint'>"
      ]
     },
     "execution_count": 176,
     "metadata": {},
     "output_type": "execute_result"
    },
    {
     "data": {
      "image/png": "[encoded data removed]",
      "text/plain": [
       "<Figure size 432x288 with 1 Axes>"
      ]
     },
     "metadata": {
      "needs_background": "light"
     },
     "output_type": "display_data"
    }
   ],
   "source": [
    "# Generate a line plot of time point versus tumor volume for a mouse treated with Capomulin\n",
    "capomulin_df = clean_mouse_df.loc[clean_mouse_df['Drug Regimen']=='Capomulin']\n",
    "\n",
    "#Use S185 for a mouse treated with Capomulin\n",
    "mouse_ = capomulin_df.loc[capomulin_df['Mouse ID']=='s185']\n",
    "mouse_.plot.line(x='Timepoint',y='Tumor Volume (mm3)')"
   ]
  },
  {
   "cell_type": "code",
   "execution_count": 177,
   "metadata": {},
   "outputs": [
    {
     "data": {
      "text/plain": [
       "Text(0, 0.5, 'Weight (g)')"
      ]
     },
     "execution_count": 177,
     "metadata": {},
     "output_type": "execute_result"
    },
    {
     "data": {
      "image/png": "[encoded data removed]",
      "text/plain": [
       "<Figure size 432x288 with 1 Axes>"
      ]
     },
     "metadata": {
      "needs_background": "light"
     },
     "output_type": "display_data"
    }
   ],
   "source": [
    "# Generate a scatter plot of mouse weight versus average tumor volume for the Capomulin regimen\n",
    "mouse1 = capomulin_df.groupby('Mouse ID')\n",
    "\n",
    "ave_tumor = mouse1['Tumor Volume (mm3)'].mean()\n",
    "ave_weight = mouse1['Weight (g)'].mean()\n",
    "plt.scatter(ave_weight,ave_tumor)\n",
    "plt.xlabel('Tumor Volume (mm3)')\n",
    "plt.ylabel('Weight (g)')"
   ]
  },
  {
   "cell_type": "markdown",
   "metadata": {},
   "source": [
    "## Correlation and Regression"
   ]
  },
  {
   "cell_type": "code",
   "execution_count": 178,
   "metadata": {},
   "outputs": [
    {
     "name": "stdout",
     "output_type": "stream",
     "text": [
      "The correlation between both factors is 0.84\n",
      "With line equation of y = 0.95x + 21.55\n"
     ]
    },
    {
     "data": {
      "image/png": "[encoded data removed]",
      "text/plain": [
       "<Figure size 432x288 with 1 Axes>"
      ]
     },
     "metadata": {
      "needs_background": "light"
     },
     "output_type": "display_data"
    }
   ],
   "source": [
    "# Calculate the correlation coefficient and linear regression model \n",
    "# for mouse weight and average tumor volume for the Capomulin regimen\n",
    "\n",
    "correlation = st.pearsonr(ave_weight,ave_tumor)\n",
    "\n",
    "#Find the line of best fit \n",
    "m_slope, m_int, m_r, m_p, m_std_err = st.stats.linregress(ave_weight, ave_tumor)\n",
    "m_fit = m_slope * ave_weight + m_int\n",
    "line_eq = \"y = \" + str(round(m_slope,2)) + \"x + \" + str(round(m_int,2))\n",
    "\n",
    "#PLOT\n",
    "plt.scatter(ave_weight,ave_tumor)\n",
    "plt.plot(ave_weight,m_fit,'r--', linewidth=1)\n",
    "plt.xlabel('Tumor Volume (mm3)')\n",
    "plt.ylabel('Weight (g)')\n",
    "plt.title('Linear Regression Model')\n",
    "plt.annotate(line_eq,(20,36),fontsize=15,color=\"red\")\n",
    "\n",
    "print(f\"The correlation between both factors is {round(correlation[0],2)}\")\n",
    "print(f\"With line equation of {line_eq}\")\n"
   ]
  }
 ],
 "metadata": {
  "anaconda-cloud": {},
  "kernelspec": {
   "display_name": "Python 3",
   "language": "python",
   "name": "python3"
  },
  "language_info": {
   "codemirror_mode": {
    "name": "ipython",
    "version": 3
   },
   "file_extension": ".py",
   "mimetype": "text/x-python",
   "name": "python",
   "nbconvert_exporter": "python",
   "pygments_lexer": "ipython3",
   "version": "3.9.7"
  }
 },
 "nbformat": 4,
 "nbformat_minor": 2
}
